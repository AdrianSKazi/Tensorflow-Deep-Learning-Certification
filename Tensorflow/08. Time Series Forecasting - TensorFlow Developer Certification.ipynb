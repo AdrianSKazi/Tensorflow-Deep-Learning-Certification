{
  "nbformat": 4,
  "nbformat_minor": 0,
  "metadata": {
    "colab": {
      "provenance": [],
      "authorship_tag": "ABX9TyNA2ARCjvBbw4pQADthUgQs",
      "include_colab_link": true
    },
    "kernelspec": {
      "name": "python3",
      "display_name": "Python 3"
    },
    "language_info": {
      "name": "python"
    }
  },
  "cells": [
    {
      "cell_type": "markdown",
      "metadata": {
        "id": "view-in-github",
        "colab_type": "text"
      },
      "source": [
        "<a href=\"https://colab.research.google.com/github/AdrianSKazi/Tensorflow-Deep-Learning-Certification/blob/main/Tensorflow/08.%20Time%20Series%20Forecasting%20-%20TensorFlow%20Developer%20Certification.ipynb\" target=\"_parent\"><img src=\"https://colab.research.google.com/assets/colab-badge.svg\" alt=\"Open In Colab\"/></a>"
      ]
    },
    {
      "cell_type": "code",
      "execution_count": null,
      "metadata": {
        "id": "LjbHzyaqJRR_"
      },
      "outputs": [],
      "source": []
    }
  ]
}